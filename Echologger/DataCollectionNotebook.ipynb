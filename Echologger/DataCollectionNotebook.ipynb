{
 "cells": [
  {
   "cell_type": "markdown",
   "metadata": {},
   "source": [
    "# Echologger collection via API"
   ]
  },
  {
   "cell_type": "code",
   "execution_count": null,
   "metadata": {},
   "outputs": [],
   "source": [
    "from echosndr import DualEchosounder\n",
    "import time"
   ]
  },
  {
   "cell_type": "markdown",
   "metadata": {},
   "source": [
    "## Connect and halt pinging\n",
    "Assign the COM port."
   ]
  },
  {
   "cell_type": "code",
   "execution_count": null,
   "metadata": {},
   "outputs": [],
   "source": [
    "# Connect to the echosounder via serial\n",
    "ss = DualEchosounder(\"\\\\\\\\.\\\\COM3\", 115200) # Assign the COM if necessary\n",
    "while ss.IsRunning(): # Check if it's running\n",
    "    ss.Detect() # Stop pinging\n",
    "time.sleep(.11)"
   ]
  },
  {
   "cell_type": "markdown",
   "metadata": {},
   "source": [
    "## Set internal clock and setup collection parameters"
   ]
  },
  {
   "cell_type": "code",
   "execution_count": null,
   "metadata": {},
   "outputs": [],
   "source": [
    "# Set the time from the computer\n",
    "ss.SetCurrentTime()\n",
    "time.sleep(.1)\n",
    "\n",
    "# Pulse length - Low frequency\n",
    "ss.SetValue(\"IdTxLengthL\", \"1000\") \n",
    "time.sleep(.1)\n",
    "\n",
    " # Pulse length - High frequency\n",
    "ss.SetValue(\"IdTxLengthH\", \"500\")\n",
    "time.sleep(.1)\n",
    "\n",
    "# Range - Low frequency\n",
    "ss.SetValue(\"IdRangeL\", \"100000\")\n",
    "time.sleep(.1)\n",
    "\n",
    "# Range - High frequency\n",
    "ss.SetValue(\"IdRangeH\", \"100000\") \n",
    "time.sleep(.1)\n",
    "\n",
    "# Output mode - 1: altimeter, 2: 10-bit text echo, 3: NMEA, 4: 12-bit text echo, 100: 12-bit binary echo, 101: 8-bit binary echo\n",
    "ss.SetValue(\"IdOutput\", \"100\")\n",
    "time.sleep(.1)\n",
    "\n",
    "# ADC Sampling frequency - 0 (Auto), 6250, 12500, 25000, 50000, 100000\n",
    "ss.SetValue(\"IdSamplFreq\", \"12500\")\n",
    "time.sleep(.1)\n",
    "\n",
    "# Ping Interval - 0.1-10 seconds\n",
    "ss.SetValue(\"IdInterval\", \"1\")\n",
    "time.sleep(.1)\n",
    "\n",
    "# Set dual frequency mode (alternating pings)\n",
    "ss.SendCommand(\"IdSetDualFreq\")"
   ]
  },
  {
   "cell_type": "markdown",
   "metadata": {},
   "source": [
    "## Set Transmit and TVG details"
   ]
  },
  {
   "cell_type": "code",
   "execution_count": null,
   "metadata": {},
   "outputs": [],
   "source": [
    "# Sound speed\n",
    "ss.SetValue(\"IdSound\", \"1500\") \n",
    "time.sleep(.1)\n",
    "\n",
    "# Sound speed\n",
    "ss.SetValue(\"IdTxPower\", \"1500\") \n",
    "time.sleep(.1)\n",
    "\n",
    "# TVG Mode - 1: gain + K*log(R) + TL*R, 2: gain + K*log(R), 3: gain, 4: gain + TL*R\n",
    "ss.SetValue(\"IdTVGMode\", \"1\") \n",
    "time.sleep(.1)\n",
    "\n",
    "# TVG Spreading Coefficient (K) - Low frequency\n",
    "ss.SetValue(\"IdTVGSprdL\", \"20\") \n",
    "time.sleep(.1)\n",
    "\n",
    "# TVG Spreading Coefficient (K) - High frequency\n",
    "ss.SetValue(\"IdTVGSprdH\", \"20\") \n",
    "time.sleep(.1)\n",
    "\n",
    "# Absorption coefficient - Low frequency\n",
    "ss.SetValue(\"IdTVGAbsL\", \"0.05\") \n",
    "time.sleep(.1)\n",
    "\n",
    "# Absorption coefficient - High frequency\n",
    "ss.SetValue(\"IdTVGAbsH\", \"0.05\") \n",
    "time.sleep(.1)\n",
    "\n",
    "# Gain - Low frequency\n",
    "ss.SetValue(\"IdGainL\", \"0\") \n",
    "time.sleep(.1)\n",
    "\n",
    "# Gain - High frequency\n",
    "ss.SetValue(\"IdGainH\", \"0\") \n",
    "time.sleep(.1)"
   ]
  },
  {
   "cell_type": "markdown",
   "metadata": {},
   "source": [
    "## Collect data to a file\n",
    "Define the output file and number of pings to collect."
   ]
  },
  {
   "cell_type": "code",
   "execution_count": null,
   "metadata": {},
   "outputs": [],
   "source": [
    "output_filename = 'my_file.log'\n",
    "numPings = 30"
   ]
  },
  {
   "cell_type": "code",
   "execution_count": null,
   "metadata": {},
   "outputs": [],
   "source": [
    "# Collect the data directly to the binary file\n",
    "with open(output_filename, \"wb\") as binary_file:\n",
    "    # start pinging\n",
    "    ss.Start() \n",
    "    # set the starting ping number\n",
    "    ping = 0 \n",
    "\n",
    "    # Try to keep track to ensure 30 pings\n",
    "    while ping <=numPings: \n",
    "        # Read the stream\n",
    "        input = ss._serial_port.readline()\n",
    "        # Write the stream\n",
    "        binary_file.write(input)\n",
    "        # If we identify a new ping, iterate\n",
    "        if b'ECHOLOGG' in input: \n",
    "            print('Echo detected, ping ',ping)\n",
    "            ping+=1\n",
    "\n",
    "# Try to stop nicely\n",
    "ss.Stop() \n",
    "\n",
    "# If not stopping nicely...\n",
    "while ss.IsRunning(): \n",
    "    # Run a detect to stop pinging\n",
    "    ss.Detect() \n",
    "\n",
    "# close the binary file\n",
    "binary_file.close()"
   ]
  }
 ],
 "metadata": {
  "kernelspec": {
   "display_name": "base",
   "language": "python",
   "name": "python3"
  },
  "language_info": {
   "codemirror_mode": {
    "name": "ipython",
    "version": 3
   },
   "file_extension": ".py",
   "mimetype": "text/x-python",
   "name": "python",
   "nbconvert_exporter": "python",
   "pygments_lexer": "ipython3",
   "version": "3.9.19"
  }
 },
 "nbformat": 4,
 "nbformat_minor": 2
}
